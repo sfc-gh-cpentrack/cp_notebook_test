{
 "cells": [
  {
   "cell_type": "code",
   "execution_count": 1,
   "id": "3775908f-ca36-4846-8f38-5adca39217f2",
   "metadata": {
    "language": "python",
    "name": "cell1"
   },
   "outputs": [
    {
     "name": "stdout",
     "output_type": "stream",
     "text": [
      "hello world\n"
     ]
    }
   ],
   "source": [
    "print('hello world')"
   ]
  }
 ],
 "metadata": {
  "kernelspec": {
   "display_name": "py311",
   "language": "python",
   "name": "python3"
  },
  "language_info": {
   "codemirror_mode": {
    "name": "ipython",
    "version": 3
   },
   "file_extension": ".py",
   "mimetype": "text/x-python",
   "name": "python",
   "nbconvert_exporter": "python",
   "pygments_lexer": "ipython3",
   "version": "3.11.8"
  },
  "lastEditStatus": {
   "authorEmail": "craig.pentrack@snowflake.com",
   "authorId": "9019756686378",
   "authorName": "ADMIN",
   "lastEditTime": 1759359229796,
   "notebookId": "hz3yvasodm7pprfiq3rf",
   "sessionId": "ae3f5615-e23e-42e7-b193-f15e88be9d43"
  }
 },
 "nbformat": 4,
 "nbformat_minor": 5
}
