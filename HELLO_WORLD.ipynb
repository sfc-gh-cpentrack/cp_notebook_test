{
 "metadata": {
  "kernelspec": {
   "display_name": "py311",
   "language": "python",
   "name": "python3"
  },
  "language_info": {
   "codemirror_mode": {
    "name": "ipython",
    "version": 3
   },
   "file_extension": ".py",
   "mimetype": "text/x-python",
   "name": "python",
   "nbconvert_exporter": "python",
   "pygments_lexer": "ipython3",
   "version": "3.11.8"
  },
  "lastEditStatus": {
   "notebookId": "e2e6xcaz3jl4phf5mx26",
   "authorId": "9019756686378",
   "authorName": "ADMIN",
   "authorEmail": "craig.pentrack@snowflake.com",
   "sessionId": "26e0aece-e6a8-4b90-986c-8ceb51f382cb",
   "lastEditTime": 1759377956150
  }
 },
 "nbformat_minor": 5,
 "nbformat": 4,
 "cells": [
  {
   "cell_type": "code",
   "execution_count": 1,
   "id": "3775908f-ca36-4846-8f38-5adca39217f2",
   "metadata": {
    "language": "python",
    "name": "cell1"
   },
   "outputs": [
    {
     "name": "stdout",
     "output_type": "stream",
     "text": [
      "hello world\n"
     ]
    }
   ],
   "source": "print('hello world')"
  },
  {
   "cell_type": "code",
   "id": "a20807b3-4fdd-4498-a218-b272e70549a4",
   "metadata": {
    "language": "sql",
    "name": "cell2"
   },
   "outputs": [],
   "source": "select 1",
   "execution_count": null
  }
 ]
}